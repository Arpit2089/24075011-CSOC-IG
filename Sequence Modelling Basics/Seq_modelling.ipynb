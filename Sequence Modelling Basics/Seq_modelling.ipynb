{
 "cells": [
  {
   "cell_type": "code",
   "execution_count": 2,
   "metadata": {
    "colab": {
     "base_uri": "https://localhost:8080/",
     "height": 90
    },
    "id": "VxdsSTstH53D",
    "outputId": "e53c5991-57ec-465e-9564-29cf9b39ab18"
   },
   "outputs": [
    {
     "data": {
      "text/html": [
       "\n",
       "     <input type=\"file\" id=\"files-abeb89b3-929f-4813-be9a-3f6f0651168f\" name=\"files[]\" multiple disabled\n",
       "        style=\"border:none\" />\n",
       "     <output id=\"result-abeb89b3-929f-4813-be9a-3f6f0651168f\">\n",
       "      Upload widget is only available when the cell has been executed in the\n",
       "      current browser session. Please rerun this cell to enable.\n",
       "      </output>\n",
       "      <script>// Copyright 2017 Google LLC\n",
       "//\n",
       "// Licensed under the Apache License, Version 2.0 (the \"License\");\n",
       "// you may not use this file except in compliance with the License.\n",
       "// You may obtain a copy of the License at\n",
       "//\n",
       "//      http://www.apache.org/licenses/LICENSE-2.0\n",
       "//\n",
       "// Unless required by applicable law or agreed to in writing, software\n",
       "// distributed under the License is distributed on an \"AS IS\" BASIS,\n",
       "// WITHOUT WARRANTIES OR CONDITIONS OF ANY KIND, either express or implied.\n",
       "// See the License for the specific language governing permissions and\n",
       "// limitations under the License.\n",
       "\n",
       "/**\n",
       " * @fileoverview Helpers for google.colab Python module.\n",
       " */\n",
       "(function(scope) {\n",
       "function span(text, styleAttributes = {}) {\n",
       "  const element = document.createElement('span');\n",
       "  element.textContent = text;\n",
       "  for (const key of Object.keys(styleAttributes)) {\n",
       "    element.style[key] = styleAttributes[key];\n",
       "  }\n",
       "  return element;\n",
       "}\n",
       "\n",
       "// Max number of bytes which will be uploaded at a time.\n",
       "const MAX_PAYLOAD_SIZE = 100 * 1024;\n",
       "\n",
       "function _uploadFiles(inputId, outputId) {\n",
       "  const steps = uploadFilesStep(inputId, outputId);\n",
       "  const outputElement = document.getElementById(outputId);\n",
       "  // Cache steps on the outputElement to make it available for the next call\n",
       "  // to uploadFilesContinue from Python.\n",
       "  outputElement.steps = steps;\n",
       "\n",
       "  return _uploadFilesContinue(outputId);\n",
       "}\n",
       "\n",
       "// This is roughly an async generator (not supported in the browser yet),\n",
       "// where there are multiple asynchronous steps and the Python side is going\n",
       "// to poll for completion of each step.\n",
       "// This uses a Promise to block the python side on completion of each step,\n",
       "// then passes the result of the previous step as the input to the next step.\n",
       "function _uploadFilesContinue(outputId) {\n",
       "  const outputElement = document.getElementById(outputId);\n",
       "  const steps = outputElement.steps;\n",
       "\n",
       "  const next = steps.next(outputElement.lastPromiseValue);\n",
       "  return Promise.resolve(next.value.promise).then((value) => {\n",
       "    // Cache the last promise value to make it available to the next\n",
       "    // step of the generator.\n",
       "    outputElement.lastPromiseValue = value;\n",
       "    return next.value.response;\n",
       "  });\n",
       "}\n",
       "\n",
       "/**\n",
       " * Generator function which is called between each async step of the upload\n",
       " * process.\n",
       " * @param {string} inputId Element ID of the input file picker element.\n",
       " * @param {string} outputId Element ID of the output display.\n",
       " * @return {!Iterable<!Object>} Iterable of next steps.\n",
       " */\n",
       "function* uploadFilesStep(inputId, outputId) {\n",
       "  const inputElement = document.getElementById(inputId);\n",
       "  inputElement.disabled = false;\n",
       "\n",
       "  const outputElement = document.getElementById(outputId);\n",
       "  outputElement.innerHTML = '';\n",
       "\n",
       "  const pickedPromise = new Promise((resolve) => {\n",
       "    inputElement.addEventListener('change', (e) => {\n",
       "      resolve(e.target.files);\n",
       "    });\n",
       "  });\n",
       "\n",
       "  const cancel = document.createElement('button');\n",
       "  inputElement.parentElement.appendChild(cancel);\n",
       "  cancel.textContent = 'Cancel upload';\n",
       "  const cancelPromise = new Promise((resolve) => {\n",
       "    cancel.onclick = () => {\n",
       "      resolve(null);\n",
       "    };\n",
       "  });\n",
       "\n",
       "  // Wait for the user to pick the files.\n",
       "  const files = yield {\n",
       "    promise: Promise.race([pickedPromise, cancelPromise]),\n",
       "    response: {\n",
       "      action: 'starting',\n",
       "    }\n",
       "  };\n",
       "\n",
       "  cancel.remove();\n",
       "\n",
       "  // Disable the input element since further picks are not allowed.\n",
       "  inputElement.disabled = true;\n",
       "\n",
       "  if (!files) {\n",
       "    return {\n",
       "      response: {\n",
       "        action: 'complete',\n",
       "      }\n",
       "    };\n",
       "  }\n",
       "\n",
       "  for (const file of files) {\n",
       "    const li = document.createElement('li');\n",
       "    li.append(span(file.name, {fontWeight: 'bold'}));\n",
       "    li.append(span(\n",
       "        `(${file.type || 'n/a'}) - ${file.size} bytes, ` +\n",
       "        `last modified: ${\n",
       "            file.lastModifiedDate ? file.lastModifiedDate.toLocaleDateString() :\n",
       "                                    'n/a'} - `));\n",
       "    const percent = span('0% done');\n",
       "    li.appendChild(percent);\n",
       "\n",
       "    outputElement.appendChild(li);\n",
       "\n",
       "    const fileDataPromise = new Promise((resolve) => {\n",
       "      const reader = new FileReader();\n",
       "      reader.onload = (e) => {\n",
       "        resolve(e.target.result);\n",
       "      };\n",
       "      reader.readAsArrayBuffer(file);\n",
       "    });\n",
       "    // Wait for the data to be ready.\n",
       "    let fileData = yield {\n",
       "      promise: fileDataPromise,\n",
       "      response: {\n",
       "        action: 'continue',\n",
       "      }\n",
       "    };\n",
       "\n",
       "    // Use a chunked sending to avoid message size limits. See b/62115660.\n",
       "    let position = 0;\n",
       "    do {\n",
       "      const length = Math.min(fileData.byteLength - position, MAX_PAYLOAD_SIZE);\n",
       "      const chunk = new Uint8Array(fileData, position, length);\n",
       "      position += length;\n",
       "\n",
       "      const base64 = btoa(String.fromCharCode.apply(null, chunk));\n",
       "      yield {\n",
       "        response: {\n",
       "          action: 'append',\n",
       "          file: file.name,\n",
       "          data: base64,\n",
       "        },\n",
       "      };\n",
       "\n",
       "      let percentDone = fileData.byteLength === 0 ?\n",
       "          100 :\n",
       "          Math.round((position / fileData.byteLength) * 100);\n",
       "      percent.textContent = `${percentDone}% done`;\n",
       "\n",
       "    } while (position < fileData.byteLength);\n",
       "  }\n",
       "\n",
       "  // All done.\n",
       "  yield {\n",
       "    response: {\n",
       "      action: 'complete',\n",
       "    }\n",
       "  };\n",
       "}\n",
       "\n",
       "scope.google = scope.google || {};\n",
       "scope.google.colab = scope.google.colab || {};\n",
       "scope.google.colab._files = {\n",
       "  _uploadFiles,\n",
       "  _uploadFilesContinue,\n",
       "};\n",
       "})(self);\n",
       "</script> "
      ],
      "text/plain": [
       "<IPython.core.display.HTML object>"
      ]
     },
     "metadata": {},
     "output_type": "display_data"
    },
    {
     "name": "stdout",
     "output_type": "stream",
     "text": [
      "Saving kaggle.json to kaggle.json\n"
     ]
    },
    {
     "data": {
      "text/plain": [
       "{'kaggle.json': b'{\"username\":\"arpitkumargupta\",\"key\":\"bba778e802edc834f1daab046ada35e0\"}'}"
      ]
     },
     "execution_count": 2,
     "metadata": {},
     "output_type": "execute_result"
    }
   ],
   "source": [
    "!pip install -q kaggle\n",
    "from google.colab import files\n",
    "files.upload()\n"
   ]
  },
  {
   "cell_type": "code",
   "execution_count": 3,
   "metadata": {
    "id": "s_LgMwwGH8jg"
   },
   "outputs": [],
   "source": [
    "!mkdir -p ~/.kaggle\n",
    "!cp kaggle.json ~/.kaggle/\n",
    "!chmod 600 ~/.kaggle/kaggle.json"
   ]
  },
  {
   "cell_type": "code",
   "execution_count": 4,
   "metadata": {
    "colab": {
     "base_uri": "https://localhost:8080/"
    },
    "id": "Hn0Zx8HgIuvk",
    "outputId": "542c2bfb-e000-440f-d4bb-f6d89506e6a6"
   },
   "outputs": [
    {
     "name": "stdout",
     "output_type": "stream",
     "text": [
      "Dataset URL: https://www.kaggle.com/datasets/kritanjalijain/amazon-reviews\n",
      "License(s): CC0-1.0\n",
      "Downloading amazon-reviews.zip to /content\n",
      " 97% 1.26G/1.29G [00:08<00:00, 45.4MB/s]\n",
      "100% 1.29G/1.29G [00:08<00:00, 166MB/s] \n"
     ]
    }
   ],
   "source": [
    "!kaggle datasets download -d kritanjalijain/amazon-reviews"
   ]
  },
  {
   "cell_type": "code",
   "execution_count": 5,
   "metadata": {
    "colab": {
     "base_uri": "https://localhost:8080/"
    },
    "id": "WPwuA8w6JtxH",
    "outputId": "a080b4d1-3ee1-410e-c4bb-4822f9e50719"
   },
   "outputs": [
    {
     "name": "stdout",
     "output_type": "stream",
     "text": [
      "Archive:  amazon-reviews.zip\n",
      "  inflating: amazon_review_polarity_csv.tgz  \n",
      "  inflating: test.csv                \n",
      "  inflating: train.csv               \n",
      "amazon_review_polarity_csv.tgz\tkaggle.json  test.csv\n",
      "amazon-reviews.zip\t\tsample_data  train.csv\n"
     ]
    }
   ],
   "source": [
    "!unzip amazon-reviews.zip\n",
    "!ls"
   ]
  },
  {
   "cell_type": "code",
   "execution_count": 6,
   "metadata": {
    "colab": {
     "base_uri": "https://localhost:8080/"
    },
    "id": "nQBj0PLFJv9a",
    "outputId": "93fe0df4-66f2-4886-8403-533b531b94d2"
   },
   "outputs": [
    {
     "name": "stdout",
     "output_type": "stream",
     "text": [
      "<class 'pandas.core.frame.DataFrame'>\n",
      "RangeIndex: 99995 entries, 0 to 99994\n",
      "Data columns (total 3 columns):\n",
      " #   Column  Non-Null Count  Dtype \n",
      "---  ------  --------------  ----- \n",
      " 0   Label   99995 non-null  int64 \n",
      " 1   Title   99995 non-null  object\n",
      " 2   Review  99995 non-null  object\n",
      "dtypes: int64(1), object(2)\n",
      "memory usage: 2.3+ MB\n",
      "None\n"
     ]
    }
   ],
   "source": [
    "import pandas as pd\n",
    "train_df = pd.read_csv('train.csv',header=None,nrows=100000)\n",
    "\n",
    "train_df.rename(columns={0:'Label',1:'Title',2:'Review'},inplace=True)\n",
    "train_df=train_df.dropna()\n",
    "train_df=train_df.reset_index(drop=True)\n",
    "print(train_df.info())\n"
   ]
  },
  {
   "cell_type": "code",
   "execution_count": 7,
   "metadata": {
    "colab": {
     "base_uri": "https://localhost:8080/",
     "height": 1000,
     "referenced_widgets": [
      "da7cf2d00b924bf3b8eac3b7ba1ea017",
      "6359e2a6ee0a457089ff9a52b2a35488",
      "28eff196652349e19e63c22f033f1772",
      "f3663dc248914674aeeb25d71b8f0e3c",
      "7f377854a6f14c48bbb8bcf01f0d39c3",
      "17913c351b94479c90fb6b32ba79e382",
      "d4769b0262b3437387365b44221e32b7",
      "2ee427d0dce74cd3b5a36dc006817f6c",
      "59e11ebf375245159730fee8c4c677ff",
      "797c0349a9414be2a7abf3887134bdeb",
      "8fd0f0b9f23b48d99a72f9a9faef4cb6",
      "355a87ca76ff4ff6914367722ff6cb4f",
      "fd8c539eaf484ea7af3d2974d79bc230",
      "60b8976e8f9949279dfe7967166f060e",
      "4ceae96996aa4370a44ded3a268dc669",
      "25870604eaec40ea8cb1c4b3d7e6d0eb",
      "ad223e72334a4031a4cb5cc3d11f60cf",
      "d4eec594f9554e46863cdc8027a43522",
      "df4656b3a52f44029f74ffd451358e83",
      "2cac2d5e298e443db0e16db6330f2cd1",
      "6335f5f9352b4dc3ae25e52e46730ef4",
      "a5384834dbee45299eec01f8f766ac75",
      "d21883a42abb448c936b32f855e475f3",
      "f6f7563a3a824c42b7a706aed20af375",
      "4f74374863bf47f2a077f213dc465ead",
      "3db5d2da772947b58a267a6607f4b360",
      "50e716d46104498b9eba8e506529eda1",
      "e8cddd962c40436fb05c11222cfb780b",
      "82fd71eb8ae74d54b80d67c4d2619705",
      "6aa016c6c9bc48f9814bd2511ddc3057",
      "3db965ceeb424627b3e0d8d3604ca0c0",
      "9792ba472f91454c98f75f838e211a5f",
      "4daa3d7d257443d2b27563cb78bee801",
      "aaa9aba99dc14bfaa523dd0209aacc97",
      "f9be9432154f4e73a909f6bbe21d6414",
      "da7a67e73b13463e8a736d2085c1099a",
      "5059387ab914409a81e791eb4521e9ac",
      "c41bf6f6c16340e0ad54fe6adf2fce40",
      "fd278bbeff9649b7a2a03645642e9f9b",
      "41b4abbf4c364fa499487dd174ca2f89",
      "ff3f755085fa464aa6236d5a037c570c",
      "15b63008ec4345f19e78d47fbf91b240",
      "b7f0767259cf42a8b8320a32500e0132",
      "0b92cefcf3904b108aaa3c09386443b3",
      "09817503ab5c4c1f9694799413b2eede",
      "f30751f562f145e7b4b6b55be94ec0ed",
      "6d11e4c8133f44d2ac1ecf6af4d75db4",
      "b05390f0ad4c4f4196d4018c95b5eb6a",
      "3dbd317202674391b6017219675e4005",
      "e264c96fa3bc43208e6f5c200bda46c5",
      "efad622ca13941db97cbe1077a552d03",
      "c0504c964d144fb8b70c9a18bc145f8b",
      "6de2d5d2542e41cb8001675e7f4b8744",
      "214a590bcdd94c869439bb65ba0d8d16",
      "d25ae350101242c380f97ff22a3b49a3",
      "76b443bab17b4963b72f40d602f64a25",
      "ce13bdfb590e4a0d85697223d686b1fe",
      "1c09b13be2ea4632ad2c5f980b121001",
      "ea4bfd7ad88c4d87964e9c59db730ca6",
      "96cd5b05713143dc805ddf644ac8d39c",
      "b4285ee5a876414481a659993696e665",
      "4cd2f8fe707449b9b6b6e0c7e002f1dd",
      "3e731d6339764111a259af88b029aaae",
      "b29cd347e7134dc1b753f911c44e21e5",
      "39916fff4a944792b1f0bdeb5b976c13",
      "63e9bd716c7046928b35bb937a8314e4",
      "737d50184cfa4efc8460d5761a2061a3",
      "739ca90b2c264da19c6339ee15726424"
     ]
    },
    "id": "wLJIEEBgKLRR",
    "outputId": "0e349961-927c-4ba0-ea00-188d9737dc97"
   },
   "outputs": [
    {
     "name": "stdout",
     "output_type": "stream",
     "text": [
      "    Label                                              Title  \\\n",
      "0       2                     Stuning even for the non-gamer   \n",
      "1       2              The best soundtrack ever to anything.   \n",
      "2       2                                           Amazing!   \n",
      "3       2                               Excellent Soundtrack   \n",
      "4       2  Remember, Pull Your Jaw Off The Floor After He...   \n",
      "..    ...                                                ...   \n",
      "95      1                           Very Not Worth Your Time   \n",
      "96      2                           Very fun and educational   \n",
      "97      1                                Ludicrous and silly   \n",
      "98      2                                           Artistry   \n",
      "99      1                                           Caution!   \n",
      "\n",
      "                                               Review  \n",
      "0   This sound track was beautiful! It paints the ...  \n",
      "1   I'm reading a lot of reviews saying that this ...  \n",
      "2   This soundtrack is my favorite music of all ti...  \n",
      "3   I truly like this soundtrack and I enjoy video...  \n",
      "4   If you've played the game, you know how divine...  \n",
      "..                                                ...  \n",
      "95  The book was wriiten very horribly. I would ne...  \n",
      "96  Trains, shapes and pegs - a winning combinatio...  \n",
      "97  I remember getting this book so faintly that t...  \n",
      "98  I think that the Deodato concerts are very ric...  \n",
      "99  These tracks are not the \"original\" versions b...  \n",
      "\n",
      "[100 rows x 3 columns]\n",
      "1007\n",
      "Collecting symspellpy\n",
      "  Downloading symspellpy-6.9.0-py3-none-any.whl.metadata (3.9 kB)\n",
      "Collecting editdistpy>=0.1.3 (from symspellpy)\n",
      "  Downloading editdistpy-0.1.6-cp311-cp311-manylinux_2_5_x86_64.manylinux1_x86_64.manylinux_2_17_x86_64.manylinux2014_x86_64.whl.metadata (6.7 kB)\n",
      "Downloading symspellpy-6.9.0-py3-none-any.whl (2.6 MB)\n",
      "\u001b[2K   \u001b[90m━━━━━━━━━━━━━━━━━━━━━━━━━━━━━━━━━━━━━━━━\u001b[0m \u001b[32m2.6/2.6 MB\u001b[0m \u001b[31m84.6 MB/s\u001b[0m eta \u001b[36m0:00:00\u001b[0m\n",
      "\u001b[?25hDownloading editdistpy-0.1.6-cp311-cp311-manylinux_2_5_x86_64.manylinux1_x86_64.manylinux_2_17_x86_64.manylinux2014_x86_64.whl (158 kB)\n",
      "\u001b[2K   \u001b[90m━━━━━━━━━━━━━━━━━━━━━━━━━━━━━━━━━━━━━━━━\u001b[0m \u001b[32m158.4/158.4 kB\u001b[0m \u001b[31m16.6 MB/s\u001b[0m eta \u001b[36m0:00:00\u001b[0m\n",
      "\u001b[?25hInstalling collected packages: editdistpy, symspellpy\n",
      "Successfully installed editdistpy-0.1.6 symspellpy-6.9.0\n",
      "Collecting pandarallel\n",
      "  Downloading pandarallel-1.6.5.tar.gz (14 kB)\n",
      "  Preparing metadata (setup.py) ... \u001b[?25l\u001b[?25hdone\n",
      "Requirement already satisfied: dill>=0.3.1 in /usr/local/lib/python3.11/dist-packages (from pandarallel) (0.3.7)\n",
      "Requirement already satisfied: pandas>=1 in /usr/local/lib/python3.11/dist-packages (from pandarallel) (2.2.2)\n",
      "Requirement already satisfied: psutil in /usr/local/lib/python3.11/dist-packages (from pandarallel) (5.9.5)\n",
      "Requirement already satisfied: numpy>=1.23.2 in /usr/local/lib/python3.11/dist-packages (from pandas>=1->pandarallel) (2.0.2)\n",
      "Requirement already satisfied: python-dateutil>=2.8.2 in /usr/local/lib/python3.11/dist-packages (from pandas>=1->pandarallel) (2.9.0.post0)\n",
      "Requirement already satisfied: pytz>=2020.1 in /usr/local/lib/python3.11/dist-packages (from pandas>=1->pandarallel) (2025.2)\n",
      "Requirement already satisfied: tzdata>=2022.7 in /usr/local/lib/python3.11/dist-packages (from pandas>=1->pandarallel) (2025.2)\n",
      "Requirement already satisfied: six>=1.5 in /usr/local/lib/python3.11/dist-packages (from python-dateutil>=2.8.2->pandas>=1->pandarallel) (1.17.0)\n",
      "Building wheels for collected packages: pandarallel\n",
      "  Building wheel for pandarallel (setup.py) ... \u001b[?25l\u001b[?25hdone\n",
      "  Created wheel for pandarallel: filename=pandarallel-1.6.5-py3-none-any.whl size=16674 sha256=358a9062b6e79982c743d3009c1412a73bd853656bdbf590f8e57590895e874d\n",
      "  Stored in directory: /root/.cache/pip/wheels/b9/c6/5a/829298789e94348b81af52ab42c19d49da007306bbcc983827\n",
      "Successfully built pandarallel\n",
      "Installing collected packages: pandarallel\n",
      "Successfully installed pandarallel-1.6.5\n",
      "INFO: Pandarallel will run on 4 workers.\n",
      "INFO: Pandarallel will use Memory file system to transfer data between the main process and workers.\n"
     ]
    },
    {
     "name": "stderr",
     "output_type": "stream",
     "text": [
      "2025-06-11 07:01:40,496: E symspellpy.symspellpy] Dictionary file not found at frequency_dictionary_en_82_765.txt.\n",
      "ERROR:symspellpy.symspellpy:Dictionary file not found at frequency_dictionary_en_82_765.txt.\n",
      "[nltk_data] Downloading package stopwords to /root/nltk_data...\n",
      "[nltk_data]   Unzipping corpora/stopwords.zip.\n",
      "[nltk_data] Downloading package punkt_tab to /root/nltk_data...\n",
      "[nltk_data]   Unzipping tokenizers/punkt_tab.zip.\n",
      "[nltk_data] Downloading package averaged_perceptron_tagger_eng to\n",
      "[nltk_data]     /root/nltk_data...\n",
      "[nltk_data]   Unzipping taggers/averaged_perceptron_tagger_eng.zip.\n",
      "[nltk_data] Downloading package wordnet to /root/nltk_data...\n"
     ]
    }
   ],
   "source": [
    "positive_df=train_df[train_df['Label']==2]\n",
    "negative_df=train_df[train_df['Label']==1]\n",
    "print(train_df.head(100))\n",
    "\n",
    "# # print(train_df.iloc[:1000,:][train_df['Review'].iloc[:1000].str.contains(r'\\d')].head().to_string())\n",
    "print(train_df['Review'].str.len().max())\n",
    "\n",
    "\n",
    "#Better after tokenisation:\n",
    "\n",
    "# l_a=[25*x for x in range(13,24)]\n",
    "# lengths=[0,100,110,120,130,140,150,160]\n",
    "# lengths.extend([20*x for x in range(9,16)])\n",
    "# l_b=[600,630,660,700,750,800,850,900,1025]\n",
    "# lengths.extend(l_a)\n",
    "# lengths.extend(l_b)\n",
    "\n",
    "\n",
    "# for i in range(1,35):\n",
    "#     p=positive_df[(positive_df['Review'].str.len()<lengths[i])&(positive_df['Review'].str.len()>=lengths[i-1])].index.size\n",
    "#     q=negative_df[(negative_df['Review'].str.len()<lengths[i])&(negative_df['Review'].str.len()>=lengths[i-1])].index.size\n",
    "#     print(f\"Length of sequence: {lengths[i-1]} to {lengths[i]} Number of positive reviews: {p} Number of Negative reviews: {q}, positive_class_percentage:{p/(q+p)}\")\n",
    "\n",
    "\n",
    "!pip  install symspellpy\n",
    "!pip install pandarallel\n",
    "\n",
    "from pandarallel import pandarallel\n",
    "pandarallel.initialize(progress_bar=True, nb_workers=4)\n",
    "\n",
    "import inflect\n",
    "import re\n",
    "import unicodedata\n",
    "from symspellpy.symspellpy import SymSpell, Verbosity\n",
    "\n",
    "import nltk\n",
    "from nltk.tokenize import word_tokenize\n",
    "from nltk import pos_tag\n",
    "from nltk.corpus import wordnet\n",
    "from nltk.stem import WordNetLemmatizer\n",
    "from nltk.corpus import stopwords\n",
    "\n",
    "func=inflect.engine()\n",
    "lemmatiser=WordNetLemmatizer()\n",
    "sym_spell = SymSpell(max_dictionary_edit_distance=2, prefix_length=7)\n",
    "sym_spell.load_dictionary(\"frequency_dictionary_en_82_765.txt\",0,1)\n",
    "\n",
    "nltk.download('stopwords')\n",
    "nltk.download('punkt_tab')\n",
    "nltk.download('averaged_perceptron_tagger_eng')\n",
    "nltk.download('wordnet')\n",
    "\n",
    "stop_words = set(stopwords.words('english'))\n",
    "keep_words = {\n",
    "    'not', 'no', 'never', 'nor', 'very', 'too', 'so', 'just', 'really',\n",
    "    'maybe', 'perhaps', 'definitely', 'surely', 'even', 'only', 'still',\n",
    "    'yet', 'most', 'more', 'less', 'least', 'better', 'worse', 'best', 'worst',\n",
    "    'always', 'already', 'clearly', 'almost', 'barely', 'hardly', 'scarcely',\n",
    "    'totally', 'absolutely', 'completely', 'entirely', 'strongly', 'immensely',\n",
    "        'certainly','undoubtedly', 'obviously','oh', 'wow', 'ugh','aha','oops','again','good', 'bad', 'much' }\n",
    "\n",
    "contractions_dict = {\n",
    "    \"can't\": \"cannot\", \"won't\": \"will not\", \"n't\": \" not\", \"'re\": \" are\", \"'s\": \" is\",\"'d\": \" would\",\"'ll\": \" will\",\"'t\": \" not\",\"'ve\": \" have\", \"'m\": \" am\"}\n",
    "\n",
    "stop_words-=keep_words\n",
    "\n",
    "DIGIT_RE = re.compile(r'\\b\\d{1,10}\\b')\n",
    "WHITESPACE_RE = re.compile(r'\\s+')\n",
    "NON_WORD_RE = re.compile(r'[^\\w\\s!?]')\n",
    "\n",
    "def complete_preprocessor(text):\n",
    "\n",
    "    def correct_spelling(text):\n",
    "      suggestions = sym_spell.lookup_compound(text, max_edit_distance=2)\n",
    "      if suggestions:\n",
    "          return suggestions[0].term\n",
    "      return text\n",
    "\n",
    "    def num_to_text(text):\n",
    "        def f(match):\n",
    "            txt=match.group()\n",
    "            return func.number_to_words(int(txt))\n",
    "        return re.sub(DIGIT_RE,f,text)\n",
    "\n",
    "    def fix_contractions(txt):\n",
    "        for x,y in contractions_dict.items():\n",
    "            pattern = re.compile(r'\\b' + re.escape(x) + r'\\b', flags=re.IGNORECASE)\n",
    "            txt = pattern.sub(y, txt)\n",
    "        return txt\n",
    "\n",
    "\n",
    "    def get_wordnet_tag(tb_tag):\n",
    "        if tb_tag.startswith('J'):\n",
    "            return 'a'\n",
    "        elif tb_tag.startswith('V'):\n",
    "            return 'v'\n",
    "        elif tb_tag.startswith('R'):\n",
    "            return 'r'\n",
    "        elif tb_tag.startswith('N'):\n",
    "            return 'n'\n",
    "        else:\n",
    "            return None # To take care of relevant punctuations\n",
    "\n",
    "    def lemmatise(ls):\n",
    "        return [lemmatiser.lemmatize(token,get_wordnet_tag(tb_tag)) if get_wordnet_tag(tb_tag) else token for token, tb_tag in ls if token not in stop_words]\n",
    "\n",
    "    if not isinstance(text,str):\n",
    "        return text\n",
    "    text=text.lower().strip()\n",
    "    text=re.sub(WHITESPACE_RE, ' ', text)\n",
    "\n",
    "    text=unicodedata.normalize('NFKD', text)\n",
    "    text=num_to_text(text)\n",
    "    text=re.sub(NON_WORD_RE,'', text)\n",
    "    text=fix_contractions(text)\n",
    "    text=correct_spelling(text)\n",
    "\n",
    "    word_tokens=word_tokenize(text)\n",
    "    tags=pos_tag(word_tokens)\n",
    "    return lemmatise(tags)\n",
    "\n",
    "#Rare Words later\n",
    "\n",
    "train_df['Title']=train_df['Title'].parallel_apply(complete_preprocessor)\n",
    "train_df['Review']=train_df['Review'].parallel_apply(complete_preprocessor)\n",
    "\n",
    "train_df=train_df[(train_df['Title'].apply(len)>0)&(train_df['Review'].apply(len)>0)]\n",
    "train_df=train_df.reset_index(drop=True)\n",
    "train_df['Label']-=1"
   ]
  },
  {
   "cell_type": "code",
   "execution_count": 8,
   "metadata": {
    "colab": {
     "base_uri": "https://localhost:8080/"
    },
    "id": "B6W5sp3lrGVE",
    "outputId": "3a0eaf94-f132-4d30-c8ba-d379fcc4b926"
   },
   "outputs": [
    {
     "name": "stdout",
     "output_type": "stream",
     "text": [
      "amazon_review_polarity_csv.tgz\tkaggle.json  test.csv\n",
      "amazon-reviews.zip\t\tsample_data  train.csv\n",
      "rm: cannot remove 'glove.6B.zip.1': No such file or directory\n",
      "rm: cannot remove 'glove.6B.zip': No such file or directory\n",
      "--2025-06-11 07:10:35--  http://nlp.stanford.edu/data/glove.6B.zip\n",
      "Resolving nlp.stanford.edu (nlp.stanford.edu)... 171.64.67.140\n",
      "Connecting to nlp.stanford.edu (nlp.stanford.edu)|171.64.67.140|:80... connected.\n",
      "HTTP request sent, awaiting response... 302 Found\n",
      "Location: https://nlp.stanford.edu/data/glove.6B.zip [following]\n",
      "--2025-06-11 07:10:35--  https://nlp.stanford.edu/data/glove.6B.zip\n",
      "Connecting to nlp.stanford.edu (nlp.stanford.edu)|171.64.67.140|:443... connected.\n",
      "HTTP request sent, awaiting response... 301 Moved Permanently\n",
      "Location: https://downloads.cs.stanford.edu/nlp/data/glove.6B.zip [following]\n",
      "--2025-06-11 07:10:36--  https://downloads.cs.stanford.edu/nlp/data/glove.6B.zip\n",
      "Resolving downloads.cs.stanford.edu (downloads.cs.stanford.edu)... 171.64.64.22\n",
      "Connecting to downloads.cs.stanford.edu (downloads.cs.stanford.edu)|171.64.64.22|:443... connected.\n",
      "HTTP request sent, awaiting response... 200 OK\n",
      "Length: 862182613 (822M) [application/zip]\n",
      "Saving to: ‘glove.6B.zip’\n",
      "\n",
      "glove.6B.zip        100%[===================>] 822.24M  4.91MB/s    in 3m 7s   \n",
      "\n",
      "2025-06-11 07:13:44 (4.39 MB/s) - ‘glove.6B.zip’ saved [862182613/862182613]\n",
      "\n",
      "Archive:  glove.6B.zip\n",
      "  inflating: glove.6B.50d.txt        \n",
      "  inflating: glove.6B.100d.txt       \n",
      "  inflating: glove.6B.200d.txt       \n",
      "  inflating: glove.6B.300d.txt       \n",
      "amazon_review_polarity_csv.tgz\tglove.6B.200d.txt  glove.6B.zip  test.csv\n",
      "amazon-reviews.zip\t\tglove.6B.300d.txt  kaggle.json\t train.csv\n",
      "glove.6B.100d.txt\t\tglove.6B.50d.txt   sample_data\n"
     ]
    },
    {
     "name": "stderr",
     "output_type": "stream",
     "text": [
      "[nltk_data] Downloading package sentiwordnet to /root/nltk_data...\n",
      "[nltk_data]   Unzipping corpora/sentiwordnet.zip.\n"
     ]
    },
    {
     "data": {
      "text/plain": [
       "True"
      ]
     },
     "execution_count": 8,
     "metadata": {},
     "output_type": "execute_result"
    }
   ],
   "source": [
    "!ls\n",
    "!rm glove.6B.zip.1 glove.6B.zip\n",
    "!wget http://nlp.stanford.edu/data/glove.6B.zip\n",
    "!unzip glove.6B.zip\n",
    "!ls\n",
    "\n",
    "glove_input_file = 'glove.6B.100d.txt'\n",
    "\n",
    "from nltk.corpus import sentiwordnet\n",
    "nltk.download('sentiwordnet')\n",
    "\n"
   ]
  },
  {
   "cell_type": "code",
   "execution_count": 19,
   "metadata": {
    "colab": {
     "base_uri": "https://localhost:8080/"
    },
    "id": "kWzhU5mcKRju",
    "outputId": "3a493bd7-3f78-4a84-af15-26841f88e4f9"
   },
   "outputs": [
    {
     "name": "stdout",
     "output_type": "stream",
     "text": [
      "0\n",
      "0\n",
      "25536\n",
      "count    99712.000000\n",
      "mean         0.513298\n",
      "std          0.499826\n",
      "min          0.000000\n",
      "25%          0.000000\n",
      "50%          1.000000\n",
      "75%          1.000000\n",
      "max          1.000000\n",
      "Name: Label, dtype: float64\n",
      "<class 'pandas.core.frame.DataFrame'>\n",
      "RangeIndex: 50000 entries, 0 to 49999\n",
      "Data columns (total 3 columns):\n",
      " #   Column  Non-Null Count  Dtype \n",
      "---  ------  --------------  ----- \n",
      " 0   Label   50000 non-null  int64 \n",
      " 1   Title   50000 non-null  object\n",
      " 2   Review  50000 non-null  object\n",
      "dtypes: int64(1), object(2)\n",
      "memory usage: 1.1+ MB\n",
      "None\n",
      "       Label                    Title  \\\n",
      "0          1                [4, 5, 6]   \n",
      "1          1            [7, 8, 9, 10]   \n",
      "2          1                     [11]   \n",
      "3          1                  [12, 8]   \n",
      "4          1     [13, 14, 15, 16, 17]   \n",
      "...      ...                      ...   \n",
      "49995      1      [89, 913, 365, 688]   \n",
      "49996      0      [1309, 17170, 3485]   \n",
      "49997      1           [31, 213, 468]   \n",
      "49998      0  [58, 559, 89, 285, 121]   \n",
      "49999      1            [17171, 3255]   \n",
      "\n",
      "                                                  Review  \n",
      "0      [1670, 2659, 480, 432, 17172, 116, 191, 379, 7...  \n",
      "1      [90, 32, 1852, 43, 795, 7, 427, 8, 322, 1076, ...  \n",
      "2      [8, 805, 127, 250, 1201, 4863, 12429, 3225, 46...  \n",
      "3      [174, 74, 8, 177, 511, 427, 127, 1778, 427, 47...  \n",
      "4      [1362, 1778, 427, 103, 199, 127, 1065, 1580, 3...  \n",
      "...                                                  ...  \n",
      "49995  [88, 359, 468, 5824, 4774, 278, 2689, 1383, 19...  \n",
      "49996  [135, 1455, 121, 277, 150, 1402, 946, 1561, 7,...  \n",
      "49997  [796, 27829, 1402, 191, 1108, 24, 1455, 1485, ...  \n",
      "49998  [155, 1246, 51405, 468, 213, 89, 1078, 1412, 1...  \n",
      "49999  [21470, 666, 76, 2749, 3026, 1446, 666, 642, 3...  \n",
      "\n",
      "[50000 rows x 3 columns]\n"
     ]
    }
   ],
   "source": [
    "# new_lengths=[0,100]\n",
    "# new_lengths.extend([50*x for x in range(3,22)])\n",
    "\n",
    "positive_df=train_df[train_df['Label']==2]\n",
    "negative_df=train_df[train_df['Label']==1]\n",
    "\n",
    "print(positive_df[positive_df['Review'].apply(len)==0].index.size)\n",
    "print(negative_df[negative_df['Review'].apply(len)==0].index.size)\n",
    "# for i in range(1,21):\n",
    "#     p=positive_df[(positive_df['Review'].apply(len)<new_lengths[i])&(positive_df['Review'].apply(len)>=new_lengths[i-1])].index.size\n",
    "#     q=negative_df[(negative_df['Review'].apply(len)<new_lengths[i])&(negative_df['Review'].apply(len)>=new_lengths[i-1])].index.size\n",
    "#     print(f\"Length of sequence: {new_lengths[i-1]} to {new_lengths[i]} Number of positive reviews: {p} Number of Negative reviews: {q}, positive_class_percentage:{p/(q+p)}\")\n",
    "\n",
    "from collections import Counter\n",
    "import torch\n",
    "import numpy as np\n",
    "from torch.nn.utils.rnn import pad_sequence\n",
    "\n",
    "def build_vocab(df):\n",
    "    counter=Counter()\n",
    "    cols=['Title','Review']\n",
    "    for col in cols:\n",
    "        df[col].apply(lambda word_tokens: counter.update(word_tokens))\n",
    "    vocab={'UNK':1,'PAD':0,'POS':2,'NEG':3}\n",
    "    index=4\n",
    "    for word,freq in counter.items():\n",
    "        if freq>=1:\n",
    "            vocab[word]=index\n",
    "            index+=1\n",
    "    return vocab\n",
    "\n",
    "def int_tokens(df,vocab):\n",
    "\n",
    "    def get_int_tokens(ls):\n",
    "        return [vocab.get(token) if token in vocab else vocab.get('UNK') for token in ls]\n",
    "\n",
    "    cols=['Title','Review']\n",
    "    for col in cols:\n",
    "        df[col]=df[col].apply(lambda x : get_int_tokens(x))\n",
    "\n",
    "def seq_pad(df,pad_value=0):\n",
    "    df['Title']=df['Title'].apply(lambda x: torch.tensor(x,dtype=torch.long))\n",
    "    df['Review']=df['Review'].apply(lambda x: torch.tensor(x,dtype=torch.long))\n",
    "\n",
    "    a=(torch.tensor(df['Label'].values,dtype=torch.long))\n",
    "    Title_tensor = pad_sequence(df['Title'].tolist(), batch_first=True, padding_value=pad_value)\n",
    "    Review_tensor = pad_sequence(df['Review'].tolist(), batch_first=True, padding_value=pad_value)\n",
    "    return a,Title_tensor,Review_tensor\n",
    "\n",
    "\n",
    "# indices=train_df.index\n",
    "# np.random.shuffle(indices)\n",
    "\n",
    "train_df['Label']-=1\n",
    "df=train_df.head(50000).copy()\n",
    "print(df[df['Label']==1].index.size)\n",
    "print(train_df['Label'].describe())\n",
    "Vocab=build_vocab(df)\n",
    "int_tokens(df,Vocab)\n",
    "print(df.info())\n",
    "print(df)\n",
    "label_tensor,title_tensor,review_tensor=seq_pad(df)\n"
   ]
  },
  {
   "cell_type": "code",
   "execution_count": 32,
   "metadata": {
    "colab": {
     "base_uri": "https://localhost:8080/"
    },
    "id": "xjPDSUEVvt3x",
    "outputId": "92d5cd10-4b15-4c01-86db-96173052ff57"
   },
   "outputs": [
    {
     "name": "stdout",
     "output_type": "stream",
     "text": [
      "101414\n",
      "tensor([1, 1, 1,  ..., 1, 0, 1])\n",
      "tensor([[    4,     5,     6,  ...,     0,     0,     0],\n",
      "        [    7,     8,     9,  ...,     0,     0,     0],\n",
      "        [   11,     0,     0,  ...,     0,     0,     0],\n",
      "        ...,\n",
      "        [   31,   213,   468,  ...,     0,     0,     0],\n",
      "        [   58,   559,    89,  ...,     0,     0,     0],\n",
      "        [17171,  3255,     0,  ...,     0,     0,     0]])\n",
      "tensor([[ 1670,  2659,   480,  ...,     0,     0,     0],\n",
      "        [   90,    32,  1852,  ...,     0,     0,     0],\n",
      "        [    8,   805,   127,  ...,     0,     0,     0],\n",
      "        ...,\n",
      "        [  796, 27829,  1402,  ...,     0,     0,     0],\n",
      "        [  155,  1246, 51405,  ...,     0,     0,     0],\n",
      "        [21470,   666,    76,  ...,     0,     0,     0]])\n",
      "Empty DataFrame\n",
      "Columns: [Label, Title, Review]\n",
      "Index: []\n",
      "    Label                                              Title  \\\n",
      "0       1                  [tensor(4), tensor(5), tensor(6)]   \n",
      "1       1      [tensor(7), tensor(8), tensor(9), tensor(10)]   \n",
      "2       1                                       [tensor(11)]   \n",
      "3       1                            [tensor(12), tensor(8)]   \n",
      "4       1  [tensor(13), tensor(14), tensor(15), tensor(16...   \n",
      "..    ...                                                ...   \n",
      "95      0  [tensor(114), tensor(58), tensor(249), tensor(...   \n",
      "96      1            [tensor(114), tensor(179), tensor(251)]   \n",
      "97      0                         [tensor(252), tensor(253)]   \n",
      "98      1                                      [tensor(254)]   \n",
      "99      0                                      [tensor(255)]   \n",
      "\n",
      "                                               Review  \n",
      "0   [tensor(1670), tensor(2659), tensor(480), tens...  \n",
      "1   [tensor(90), tensor(32), tensor(1852), tensor(...  \n",
      "2   [tensor(8), tensor(805), tensor(127), tensor(2...  \n",
      "3   [tensor(174), tensor(74), tensor(8), tensor(17...  \n",
      "4   [tensor(1362), tensor(1778), tensor(427), tens...  \n",
      "..                                                ...  \n",
      "95  [tensor(26), tensor(17544), tensor(114), tenso...  \n",
      "96  [tensor(1341), tensor(972), tensor(3872), tens...  \n",
      "97  [tensor(13), tensor(132), tensor(26), tensor(1...  \n",
      "98  [tensor(1561), tensor(17547), tensor(3671), te...  \n",
      "99  [tensor(2659), tensor(58), tensor(1918), tenso...  \n",
      "\n",
      "[100 rows x 3 columns]\n",
      "50000\n"
     ]
    }
   ],
   "source": [
    "print(len(Vocab)) #Parameter count shoots up! (Ideas behind using GloVe)\n",
    "print(label_tensor)\n",
    "print(title_tensor)\n",
    "print(review_tensor)\n",
    "print(df[df['Title'].apply(len)==0])\n",
    "print(df.head(100))\n",
    "print(df.index.size)\n",
    "\n",
    "import torch\n",
    "import torch.nn as nn\n",
    "import torch.optim as optim\n",
    "from torch.utils.data import TensorDataset, DataLoader\n",
    "from torch.optim.lr_scheduler import ExponentialLR\n",
    "import matplotlib.pyplot as plt\n",
    "import seaborn as sns\n",
    "\n",
    "\n",
    "glove_embed={'UNK':1,'PAD':0}\n",
    "embedding_dim=10\n",
    "\n",
    "with open(glove_input_file,'r',encoding='utf8') as f:\n",
    "  for line in f:\n",
    "    parts=line.strip().split()\n",
    "    word=parts[0]\n",
    "    vector=np.array(parts[1:], dtype=np.float32)\n",
    "    glove_embed[word] = vector\n"
   ]
  },
  {
   "cell_type": "markdown",
   "metadata": {
    "id": "rCNbpdUaB8Bj"
   },
   "source": [
    "1.Better to replace numbers with notation rather than to drop them;\n",
    "Ensured class imbalance as well as bucket size consistency (ensures no bias, learned stratified bucketing) and so no need for Resampling or Algorithmic manipulations to consider it , can go ahead directly with training with bucketing, with both internal shuffling as well as shuffling bucket order as well;\n",
    "Using titles: Do not just concatenate title and review straight away, use attention (letting the model decide), use weighted sum concatenation of final hidden states if title and review lengths differ significantly.\n",
    "\n",
    "2.Avoid breaking sequential dependence by using same mask for each time step (variation can be across the depth and batches); Padding tokens should be 'masked' properly if to be ignored during loss computation.\n",
    "\n",
    "3.Embedding layers can overfit because they're often large and trained from scratch;\n",
    "Applying dropout to the embedding output adds noise, forcing the model to generalize rather than memorize exact embedding vectors;\n",
    "Some researchers avoid dropout directly on embeddings when using pretrained embeddings (like GloVe/BERT), but it’s common in training embeddings from scratch.\n",
    "\n"
   ]
  },
  {
   "cell_type": "code",
   "execution_count": 35,
   "metadata": {
    "id": "TtxmG518MtTi"
   },
   "outputs": [],
   "source": [
    "#                                RNN Implementation\n",
    "\n",
    "#Add batch normalisation, handle p\n",
    "class RNN_model(nn.Module):\n",
    "    def __init__(self, vocab, glove_map, embed_dim, hidden_dim, output_dim, pad_idx=0, dropout=0.25):\n",
    "\n",
    "        super(RNN_model, self).__init__()\n",
    "        embedding_matrix=self.create_embedding_matrix(vocab,glove_map,embed_dim)\n",
    "        self.embedding=nn.Embedding.from_pretrained(torch.tensor(embedding_matrix,dtype=torch.float),freeze=True) #Can we have only selctive learning?\n",
    "\n",
    "        layers=[]\n",
    "        l_dim=embed_dim\n",
    "        for dim in hidden_dim:\n",
    "           layers.append(nn.RNN(l_dim, dim, bidirectional=True, batch_first=True))\n",
    "           l_dim=2*dim\n",
    "        self.rnn=nn.ModuleList(layers)\n",
    "        self.fc=nn.Linear(4*hidden_dim[-1], output_dim)\n",
    "        self.dropout=nn.Dropout(dropout)\n",
    "\n",
    "    def create_embedding_matrix(self,vocab, glove_map, embed_dim):\n",
    "      embedding_output=np.zeros((len(vocab),embed_dim))\n",
    "      for word,index in vocab.items():\n",
    "        if word in glove_map:\n",
    "          embedding_output[index]=glove_map[word]\n",
    "        else:\n",
    "          if index==1:\n",
    "            embedding_output[index]=np.zeros((embed_dim,))\n",
    "          elif index==2:\n",
    "            embedding_output[index]=np.random.uniform(0,0.5,embed_dim)\n",
    "          else:\n",
    "            embedding_output[index]=np.random.uniform(-0.5,0,embed_dim)\n",
    "      return embedding_output\n",
    "\n",
    "\n",
    "    def forward(self, title_batch, review_batch):\n",
    "        title_output=self.embedding(title_batch)\n",
    "        review_output=self.embedding(review_batch)\n",
    "        if self.training:\n",
    "          title_output=self.dropout(title_output)\n",
    "          review_output=self.dropout(review_output)\n",
    "\n",
    "        for layer in self.rnn:\n",
    "          # fw_output_hidden,bw_output_hidden=layer(input)[1]\n",
    "\n",
    "          # output,hidden=layer(input)\n",
    "          # input=torch.cat((hidden[-2,:,:],hidden[-1,:,:]),dim=1)\n",
    "\n",
    "          title_output,title_hidden=layer(title_output)\n",
    "          review_output,review_hidden=layer(review_output)\n",
    "          # if self.training:\n",
    "          #   title_output=self.dropout(title_output)\n",
    "          #   review_output=self.dropout(review_output)\n",
    "\n",
    "\n",
    "        fw_final_title,bw_final_title=title_hidden[-2,:,:],title_hidden[-1,:,:]\n",
    "        final_title=torch.cat((fw_final_title,bw_final_title),dim=1)\n",
    "\n",
    "        fw_final_review,bw_final_review=review_hidden[-2,:,:],review_hidden[-1,:,:]\n",
    "        final_review=torch.cat((fw_final_review,bw_final_review),dim=1)\n",
    "\n",
    "        final_hidden=torch.cat((final_title,final_review),dim=1)\n",
    "\n",
    "        if self.training:\n",
    "          final_hidden=self.dropout(final_hidden)\n",
    "        logits = self.fc(final_hidden)\n",
    "        return logits\n",
    "        # return torch.sigmoid(logits)+1\n",
    "\n",
    "hidden_dim=[80,32,16]\n",
    "\n",
    "RNN=RNN_model(Vocab,glove_embed,100,hidden_dim,1)\n",
    "criterion=nn.BCEWithLogitsLoss()\n",
    "optimiser=optim.Adam(RNN.parameters(),lr=0.001)\n",
    "device=torch.device('cuda' if torch.cuda.is_available() else 'cpu')\n",
    "RNN=RNN.to(device)\n",
    "criterion=criterion.to(device)\n",
    "\n",
    "part_label_tensor,part_title_tensor,part_review_tensor=label_tensor[:20000],title_tensor[:20000],review_tensor[:20000]\n",
    "\n",
    "dataset=TensorDataset(part_label_tensor, part_title_tensor, part_review_tensor)\n",
    "data=DataLoader(dataset,batch_size=128,shuffle=True)\n",
    "\n",
    "from tqdm import tqdm\n",
    "\n",
    "def Back_PropTT(RNN, data, optimiser, criterion):\n",
    "  RNN.train()\n",
    "\n",
    "  max_epochs=50\n",
    "  lr_min=1e-7\n",
    "  loss_progression=[]\n",
    "  scheduler=ExponentialLR(optimiser,gamma=0.6)\n",
    "\n",
    "  epoch_count=1\n",
    "  while epoch_count<=max_epochs:\n",
    "    epoch_loss=0\n",
    "    for label_batch, title_batch, review_batch in tqdm(data):\n",
    "\n",
    "      predicted_output=RNN(title_batch.to(device),review_batch.to(device))\n",
    "      loss=criterion(predicted_output.view(-1),label_batch.float().to(device))\n",
    "      optimiser.zero_grad()\n",
    "      loss.backward()\n",
    "      optimiser.step()\n",
    "      epoch_loss+=loss.item()*label_batch.shape[0]# Avoids graph build up or memory leak\n",
    "\n",
    "    current_lr=optimiser.param_groups[0]['lr']\n",
    "    print(f'current lr: {current_lr}')\n",
    "    epoch_loss/=len(dataset)\n",
    "    loss_progression.append(epoch_loss)\n",
    "    scheduler.step()\n",
    "\n",
    "    print(f\"Epoch:{epoch_count} Loss:{epoch_loss}\")\n",
    "    if(current_lr<=lr_min):\n",
    "      print('Very slow learning rate')\n",
    "      break\n",
    "    if((epoch_count>2)and(int(loss_progression[-1]*1000)>int(loss_progression[-2]*1000))):\n",
    "      for param_group in optimiser.param_groups:\n",
    "        param_group['lr']*=0.1\n",
    "\n",
    "    epoch_count+=1\n",
    "\n",
    "  return loss_progression\n"
   ]
  },
  {
   "cell_type": "code",
   "execution_count": 36,
   "metadata": {
    "colab": {
     "base_uri": "https://localhost:8080/",
     "height": 1000
    },
    "id": "gZG-SRSVwM6u",
    "outputId": "e3be4430-c870-47fd-9fb7-28f5ecc0dcae"
   },
   "outputs": [
    {
     "name": "stderr",
     "output_type": "stream",
     "text": [
      "100%|██████████| 157/157 [00:01<00:00, 90.90it/s]\n"
     ]
    },
    {
     "name": "stdout",
     "output_type": "stream",
     "text": [
      "current lr: 0.001\n",
      "Epoch:1 Loss:0.5271625212669373\n"
     ]
    },
    {
     "name": "stderr",
     "output_type": "stream",
     "text": [
      "100%|██████████| 157/157 [00:01<00:00, 96.68it/s]\n"
     ]
    },
    {
     "name": "stdout",
     "output_type": "stream",
     "text": [
      "current lr: 0.0006\n",
      "Epoch:2 Loss:0.46945936040878294\n"
     ]
    },
    {
     "name": "stderr",
     "output_type": "stream",
     "text": [
      "100%|██████████| 157/157 [00:01<00:00, 93.98it/s]\n"
     ]
    },
    {
     "name": "stdout",
     "output_type": "stream",
     "text": [
      "current lr: 0.00035999999999999997\n",
      "Epoch:3 Loss:0.45037715244293214\n"
     ]
    },
    {
     "name": "stderr",
     "output_type": "stream",
     "text": [
      "100%|██████████| 157/157 [00:01<00:00, 86.47it/s]\n"
     ]
    },
    {
     "name": "stdout",
     "output_type": "stream",
     "text": [
      "current lr: 0.00021599999999999996\n",
      "Epoch:4 Loss:0.43405080547332764\n"
     ]
    },
    {
     "name": "stderr",
     "output_type": "stream",
     "text": [
      "100%|██████████| 157/157 [00:02<00:00, 66.25it/s]\n"
     ]
    },
    {
     "name": "stdout",
     "output_type": "stream",
     "text": [
      "current lr: 0.00012959999999999998\n",
      "Epoch:5 Loss:0.4201415217399597\n"
     ]
    },
    {
     "name": "stderr",
     "output_type": "stream",
     "text": [
      "100%|██████████| 157/157 [00:02<00:00, 72.45it/s]\n"
     ]
    },
    {
     "name": "stdout",
     "output_type": "stream",
     "text": [
      "current lr: 7.775999999999999e-05\n",
      "Epoch:6 Loss:0.411005955696106\n"
     ]
    },
    {
     "name": "stderr",
     "output_type": "stream",
     "text": [
      "100%|██████████| 157/157 [00:01<00:00, 94.65it/s]\n"
     ]
    },
    {
     "name": "stdout",
     "output_type": "stream",
     "text": [
      "current lr: 4.665599999999999e-05\n",
      "Epoch:7 Loss:0.40617876539230346\n"
     ]
    },
    {
     "name": "stderr",
     "output_type": "stream",
     "text": [
      "100%|██████████| 157/157 [00:01<00:00, 95.34it/s]\n"
     ]
    },
    {
     "name": "stdout",
     "output_type": "stream",
     "text": [
      "current lr: 2.7993599999999992e-05\n",
      "Epoch:8 Loss:0.4007768821716309\n"
     ]
    },
    {
     "name": "stderr",
     "output_type": "stream",
     "text": [
      "100%|██████████| 157/157 [00:01<00:00, 95.74it/s]\n"
     ]
    },
    {
     "name": "stdout",
     "output_type": "stream",
     "text": [
      "current lr: 1.6796159999999994e-05\n",
      "Epoch:9 Loss:0.40081980423927305\n"
     ]
    },
    {
     "name": "stderr",
     "output_type": "stream",
     "text": [
      "100%|██████████| 157/157 [00:01<00:00, 92.43it/s]\n"
     ]
    },
    {
     "name": "stdout",
     "output_type": "stream",
     "text": [
      "current lr: 1.0077695999999996e-05\n",
      "Epoch:10 Loss:0.3966447876930237\n"
     ]
    },
    {
     "name": "stderr",
     "output_type": "stream",
     "text": [
      "100%|██████████| 157/157 [00:01<00:00, 94.08it/s]\n"
     ]
    },
    {
     "name": "stdout",
     "output_type": "stream",
     "text": [
      "current lr: 6.046617599999998e-06\n",
      "Epoch:11 Loss:0.39849241514205935\n"
     ]
    },
    {
     "name": "stderr",
     "output_type": "stream",
     "text": [
      "100%|██████████| 157/157 [00:01<00:00, 84.57it/s]\n"
     ]
    },
    {
     "name": "stdout",
     "output_type": "stream",
     "text": [
      "current lr: 3.6279705599999985e-07\n",
      "Epoch:12 Loss:0.3963834444999695\n"
     ]
    },
    {
     "name": "stderr",
     "output_type": "stream",
     "text": [
      "100%|██████████| 157/157 [00:02<00:00, 65.19it/s]\n"
     ]
    },
    {
     "name": "stdout",
     "output_type": "stream",
     "text": [
      "current lr: 2.176782335999999e-07\n",
      "Epoch:13 Loss:0.3969435359954834\n"
     ]
    },
    {
     "name": "stderr",
     "output_type": "stream",
     "text": [
      "100%|██████████| 157/157 [00:02<00:00, 73.73it/s]\n"
     ]
    },
    {
     "name": "stdout",
     "output_type": "stream",
     "text": [
      "current lr: 1.3060694015999994e-07\n",
      "Epoch:14 Loss:0.396531233215332\n"
     ]
    },
    {
     "name": "stderr",
     "output_type": "stream",
     "text": [
      "100%|██████████| 157/157 [00:01<00:00, 95.01it/s]\n"
     ]
    },
    {
     "name": "stdout",
     "output_type": "stream",
     "text": [
      "current lr: 7.836416409599996e-08\n",
      "Epoch:15 Loss:0.3969722351551056\n",
      "Very slow learning rate\n"
     ]
    },
    {
     "data": {
      "image/png": "[encoded data removed]",
      "text/plain": [
       "<Figure size 640x480 with 1 Axes>"
      ]
     },
     "metadata": {},
     "output_type": "display_data"
    }
   ],
   "source": [
    "# What else to load on device\n",
    "loss_vect=Back_PropTT(RNN, data, optimiser, criterion)\n",
    "plt.plot(loss_vect)\n",
    "plt.xlabel(\"Epoch\")\n",
    "plt.ylabel(\"Epoch_Loss\")\n",
    "plt.title(\"Loss variation against epoch\")\n",
    "plt.show()\n",
    "\n",
    "\n",
    "\n",
    "\n",
    "\n"
   ]
  },
  {
   "cell_type": "code",
   "execution_count": 37,
   "metadata": {
    "colab": {
     "base_uri": "https://localhost:8080/",
     "height": 273,
     "referenced_widgets": [
      "e8aa11119b6e4b46b65d64050f89183e",
      "d8f45a94f1474469b00c7a13991830e2",
      "cb2d56806a0943af8fef6e9a9079a49e",
      "a322f58733be47118bc09f384e130174",
      "60c393504b54420faa4df4da671c498e",
      "0b8152efb7e8436bbde3f3579165330d",
      "b6c66b7bfc864d3d85e59af03ae7e0de",
      "29dd6fc0f1fc493ba986c2ad86af65d9",
      "5af31fa93d024e23be785446fd38fd65",
      "df41cb18d834481898966df41e635e59",
      "919e10d7d9914fe3a98c850b9080efef",
      "8ffdf7c077f14c658a24fea0ee3074d1",
      "b0de6c4aad0248f995e4a852efe98e7e",
      "6fde4412174b487eb81eb964825baad3",
      "fdc4b05c1dbb48d7909c3f0f03b4421a",
      "5d0226d0b1a244ac9efe985104087c12",
      "7c36e7eb522848dfbb94bf63341b1b1a",
      "c75edf33a16e4c4e9e9e270ade2fb999",
      "43fe59fd1907475f8c76791f2c56ecc9",
      "6f2a8879f4d6496caca776e09e1cca35",
      "fe3c245852dc40169ab21a1b18a1645f",
      "a802427a2b854d18916c647708295c92",
      "a1b32c2dbd9e48eda206a019348ed0b0",
      "0c177393e34b4197833fc8988352d301",
      "7631fa94c58e41de82bd0280edfda24d",
      "44cd3952389d487ba21be8fc7fd213da",
      "9a74e4d62b85469d92d385487f334832",
      "7696383637564735810bbe93ef344275",
      "e9ff1dd9de0f4a21a5a8467b4ce64442",
      "f7d29a8290784cd5812f0648d3da3164",
      "f4fedd7b46264b44a35ed42b95126877",
      "c61ffc8da9a94399b7201b120f41dc91",
      "9d78267024b54849bbe9b9699a7a2ef7",
      "5f095d82d1b54f4cacfa2224b73d6498",
      "ae4aa91830a84951aeabc40db9d82473",
      "e231a496e30d4db59a0a70f853198006",
      "7dea3de0bc0240759950a6bb7b9103d2",
      "1b62f7379bc5416e81c0c7063793f981",
      "5389709e1e7a4a8687347245f943a82e",
      "a2e69bb488214afdae53d2bb8c15e272",
      "9f7ea902964e40f29e6fd3fc20f50ed8",
      "be4d874fdf124122a10f7c88beec72f8",
      "5689192cac8440efa0578655ffa99505",
      "1797b4bbfd964231a31a37b6e03c3ea4",
      "99dbd0bbdfee4a958ae0b978b84dddbf",
      "d4634a2258ad4da1a1bd68a7696fab13",
      "56ed903f3bb74311948cf5a5d6e9949b",
      "99450495336847b9b44daa3ccad9f4c1",
      "0a98319298c14a18929bf5def607bd4f",
      "9248fc72992b4c999370791f5229efa4",
      "3709211395f4447e9c856e763e9b8182",
      "e235aa9a9956405aaca3423b185bb144",
      "95eec3f1584d4e39baa8ebf89aa83115",
      "4a1cf700303d46d281512d7bdd54291a",
      "d2d776ff665e47b89c6d1c177ec9f760",
      "8987310a30214d0fb01249aa298fc4fa",
      "1bdb52e5a57644afa2d916df510538c6",
      "b29d1c75bc65460aa11afece1b76fc87",
      "eff3930d855141519fe6af9c5026ea7a",
      "69fbe098058f413eb442e245fc3cdc02",
      "0738aa069211497897b4dc6c7312b468",
      "ba659a3da7c444b4913acf5a30e92e9f",
      "423c0dba603d4f9389d49e378dc22600",
      "9bdc93f1f0ab4deb94ede50012c9d87d",
      "63703487a4c9434f9203aec9a010cbaf",
      "2191ca03f1a2497da43c2f3641cf3d66",
      "45702918e87e4f348371784c48f03b6e",
      "e504ed6e73374f81b93d557a5e150fe1"
     ]
    },
    "id": "z4BE-j7ErXkS",
    "outputId": "119139c2-6ec9-4716-e5e7-88014016737e"
   },
   "outputs": [],
   "source": [
    "test_df=pd.read_csv('test.csv',header=None,nrows=100000)\n",
    "test_df.rename(columns={0:'Label',1:'Title',2:'Review'},inplace=True)\n",
    "test_df.dropna(inplace=True)\n",
    "test_df=test_df.reset_index(drop=True)\n",
    "\n",
    "part_test_df=test_df[42000:50000].copy()\n",
    "part_test_df['Title']=part_test_df['Title'].parallel_apply(complete_preprocessor)\n",
    "part_test_df['Review']=part_test_df['Review'].parallel_apply(complete_preprocessor)\n",
    "part_test_df['Label']-=1\n",
    "\n",
    "part_test_df=part_test_df[(part_test_df['Title'].apply(len)>0)&(part_test_df['Review'].apply(len)>0)]\n",
    "part_test_df=part_test_df.reset_index(drop=True)\n",
    "\n",
    "int_tokens(part_test_df, Vocab)\n",
    "test_label_tensor,test_title_tensor,test_review_tensor=seq_pad(part_test_df)\n",
    "\n",
    "test_data=TensorDataset(test_label_tensor, test_title_tensor, test_review_tensor)\n",
    "test_data=DataLoader(test_data,batch_size=128,shuffle=False)"
   ]
  },
  {
   "cell_type": "code",
   "execution_count": 43,
   "metadata": {
    "colab": {
     "base_uri": "https://localhost:8080/",
     "height": 559
    },
    "id": "0v2ahu7NX5NG",
    "outputId": "21e62024-323e-43e8-966c-37b15067eba5"
   },
   "outputs": [
    {
     "name": "stdout",
     "output_type": "stream",
     "text": [
      "Final Loss: 0.40201779174954166\n",
      "Confusion Matrix: [[3324  652]\n",
      " [ 728 3271]]\n",
      "PR-AUC:0.900817459050833\n",
      "ROC-AUC:0.899584428300234\n"
     ]
    },
    {
     "data": {
      "image/png": "[encoded data removed]",
      "text/plain": [
       "<Figure size 640x480 with 1 Axes>"
      ]
     },
     "metadata": {},
     "output_type": "display_data"
    }
   ],
   "source": [
    "from sklearn.metrics import confusion_matrix,average_precision_score,roc_auc_score\n",
    "\n",
    "RNN.eval()\n",
    "with torch.no_grad():\n",
    "  probs_to_gpu=[]\n",
    "  predictions_to_gpu=[]\n",
    "  prediction_on_test=[]\n",
    "  probs=[]\n",
    "  final_loss=0\n",
    "  for test_label_batch, test_title_batch, test_review_batch in test_data:\n",
    "    predicted_output=RNN(test_title_batch.to(device),test_review_batch.to(device))\n",
    "\n",
    "    probs_to_gpu.append(torch.sigmoid(predicted_output).flatten())\n",
    "    predictions_to_gpu.append((predicted_output>=0).int().flatten())\n",
    "    prediction_on_test=torch.cat(predictions_to_gpu).cpu().numpy()\n",
    "    probs=torch.cat(probs_to_gpu).cpu().numpy()\n",
    "\n",
    "    loss=criterion(predicted_output.view(-1),test_label_batch.float().to(device))\n",
    "    final_loss+=loss.item()*test_label_batch.shape[0]\n",
    "\n",
    "  final_loss/=len(test_data.dataset)\n",
    "  print(f\"Final Loss: {final_loss}\")\n",
    "\n",
    "  ConfusionMatrix=confusion_matrix(test_label_tensor,prediction_on_test)\n",
    "  pr_auc=average_precision_score(test_label_tensor,probs)\n",
    "  roc_auc=roc_auc_score(test_label_tensor,probs)\n",
    "\n",
    "  print(f\"Confusion Matrix: {ConfusionMatrix}\")\n",
    "  print(f\"PR-AUC:{pr_auc}\")\n",
    "  print(f\"ROC-AUC:{roc_auc}\")\n",
    "\n",
    "  sns.heatmap(ConfusionMatrix, annot=True, fmt='d', cmap='Blues', cbar=False)\n",
    "  plt.xlabel('Predicted Output')\n",
    "  plt.ylabel('Actual Output')\n",
    "  plt.title('Confusion Matrix')\n",
    "  plt.show()\n",
    "\n",
    "\n",
    "#                   Performance-Metrics for RNN Architecture as implemented above\n",
    "\n",
    "# Accuracy: 0.827\n",
    "# Precision: 0.818\n",
    "# Recall: 0.834\n",
    "# F1 Score: 0.826\n",
    "# PR-AUC: 0.9\n",
    "# ROC-AUC: 0.899\n",
    "\n",
    "\n",
    "\n",
    "\n"
   ]
  },
  {
   "cell_type": "code",
   "execution_count": 58,
   "metadata": {
    "id": "A87Zq16vX_32"
   },
   "outputs": [],
   "source": [
    "#                                   LSTM Implementation\n",
    "\n",
    "class LSTM_model(nn.Module):\n",
    "  def __init__(self,vocab, global_map, embed_dim, hidden_dim, output_dim, pad_idx=0, dropout=0.25):\n",
    "    super(LSTM_model,self).__init__()\n",
    "    embedding_matrix=np.zeros((len(vocab),embed_dim))\n",
    "    embedding_matrix=self.create_embedding_matrix(vocab,global_map,embed_dim)\n",
    "    self.embedding=nn.Embedding.from_pretrained(torch.tensor(embedding_matrix,dtype=torch.float),freeze=True)\n",
    "\n",
    "    self.lstm_layers=nn.ModuleList()\n",
    "    l_dim=embed_dim\n",
    "    for dim in hidden_dim:\n",
    "      self.lstm_layers.append(nn.LSTM(l_dim,dim,bidirectional=True,batch_first=True))\n",
    "      l_dim=2*dim\n",
    "\n",
    "    self.fc=nn.Linear(4*hidden_dim[-1],output_dim)\n",
    "    self.dropout=nn.Dropout(dropout)\n",
    "\n",
    "  def create_embedding_matrix(self, vocab, glove_map, embed_dim):\n",
    "    embedding_output=np.zeros((len(vocab),embed_dim))\n",
    "    for word,index in vocab.items():\n",
    "      if word in glove_map:\n",
    "        embedding_output[index]=glove_map[word]\n",
    "      else:\n",
    "        if index==1:\n",
    "          embedding_output[index]=np.zeros((embed_dim,))\n",
    "        elif index==2:\n",
    "          embedding_output[index]=np.random.uniform(0,0.5,embed_dim)\n",
    "        else:\n",
    "          embedding_output[index]=np.random.uniform(-0.5,0,embed_dim)\n",
    "\n",
    "    return embedding_output\n",
    "\n",
    "  def forward(self, title_batch, review_batch):\n",
    "    title_output=self.embedding(title_batch)\n",
    "    review_output=self.embedding(review_batch)\n",
    "    if self.training:\n",
    "      title_output=self.dropout(title_output)\n",
    "      review_output=self.dropout(review_output)\n",
    "\n",
    "    for layer in self.lstm_layers:\n",
    "      title_output,(title_hidden,title_cell)=layer(title_output)\n",
    "      review_output,(review_hidden,review_cell)=layer(review_output)\n",
    "\n",
    "      if self.training:\n",
    "        title_output=self.dropout(title_output)\n",
    "        review_output=self.dropout(review_output)\n",
    "\n",
    "    fw_final_title,bw_final_title=title_hidden[-2,:,:],title_hidden[-1,:,:]\n",
    "    final_title=torch.cat((fw_final_title,bw_final_title),dim=1)\n",
    "    fw_final_review,bw_final_review=review_hidden[-2,:,:],review_hidden[-1,:,:]\n",
    "    final_review=torch.cat((fw_final_review,bw_final_review),dim=1)\n",
    "\n",
    "    final_hidden=torch.cat((final_title,final_review),dim=1)\n",
    "    if self.training:\n",
    "      final_hidden=self.dropout(final_hidden)\n",
    "    logits = self.fc(final_hidden)\n",
    "    return logits\n",
    "\n",
    "\n",
    "hidden_dim=[100,32,16]\n",
    "\n",
    "LSTM=LSTM_model(Vocab, glove_embed, 100, hidden_dim, 1)\n",
    "criterion=nn.BCEWithLogitsLoss()\n",
    "optimiser=optim.Adam(LSTM.parameters(),lr=0.001)\n",
    "device=torch.device('cuda' if torch.cuda.is_available() else 'cpu')\n",
    "LSTM=LSTM.to(device)\n",
    "criterion=criterion.to(device)\n",
    "\n",
    "part_label_tensor,part_title_tensor,part_review_tensor=label_tensor[:20000],title_tensor[:20000],review_tensor[:20000]\n",
    "dataset=TensorDataset(part_label_tensor,part_title_tensor,part_review_tensor)\n",
    "data=DataLoader(dataset,batch_size=128,shuffle=True)\n",
    "\n",
    "def Back_PropTT_LSTM(LSTM, data, optimiser, criterion):\n",
    "\n",
    "  from tqdm import tqdm\n",
    "  LSTM.train()\n",
    "  max_epochs_num=50\n",
    "  lr_low=1e-7\n",
    "  epoch_num=1\n",
    "  scheduler=ExponentialLR(optimiser,gamma=0.6)\n",
    "  loss_progression_list=[]\n",
    "\n",
    "  while epoch_num<=max_epochs_num:\n",
    "    epoch_loss=0\n",
    "\n",
    "    for label_batch, title_batch, review_batch in tqdm(data):\n",
    "      predicted_output=LSTM(title_batch.to(device),review_batch.to(device))\n",
    "      loss=criterion(predicted_output.view(-1),label_batch.float().to(device))\n",
    "\n",
    "      optimiser.zero_grad()\n",
    "      loss.backward()\n",
    "      optimiser.step()\n",
    "\n",
    "      epoch_loss+=loss.item()*label_batch.shape[0]\n",
    "\n",
    "    epoch_loss/=len(dataset)\n",
    "    loss_progression_list.append(epoch_loss)\n",
    "    scheduler.step()\n",
    "    print(f\"Epoch:{epoch_num} Loss:{epoch_loss}\")\n",
    "\n",
    "    current_lr=optimiser.param_groups[0]['lr']\n",
    "    print(f\"Current lr: {current_lr}\")\n",
    "    if current_lr<=lr_low:\n",
    "      print('Very slow learning rate')\n",
    "      break\n",
    "\n",
    "    if((epoch_num>2)and(int(loss_progression_list[-2]*1000)<int(loss_progression_list[-1]*1000))):\n",
    "      for param_group in optimiser.param_groups:\n",
    "        param_group['lr']*=0.1\n",
    "\n",
    "    epoch_num+=1\n",
    "  return loss_progression_list\n",
    "\n",
    "\n",
    "\n"
   ]
  },
  {
   "cell_type": "code",
   "execution_count": 59,
   "metadata": {
    "colab": {
     "base_uri": "https://localhost:8080/",
     "height": 1000
    },
    "id": "a0JDxaWRswMX",
    "outputId": "3a498500-6aa2-41bf-8bac-913d09e8ca3a"
   },
   "outputs": [
    {
     "name": "stderr",
     "output_type": "stream",
     "text": [
      "100%|██████████| 157/157 [00:05<00:00, 27.35it/s]\n"
     ]
    },
    {
     "name": "stdout",
     "output_type": "stream",
     "text": [
      "Epoch:1 Loss:0.5515595502853393\n",
      "Current lr: 0.0006\n"
     ]
    },
    {
     "name": "stderr",
     "output_type": "stream",
     "text": [
      "100%|██████████| 157/157 [00:05<00:00, 28.55it/s]\n"
     ]
    },
    {
     "name": "stdout",
     "output_type": "stream",
     "text": [
      "Epoch:2 Loss:0.4533332190990448\n",
      "Current lr: 0.00035999999999999997\n"
     ]
    },
    {
     "name": "stderr",
     "output_type": "stream",
     "text": [
      "100%|██████████| 157/157 [00:05<00:00, 28.49it/s]\n"
     ]
    },
    {
     "name": "stdout",
     "output_type": "stream",
     "text": [
      "Epoch:3 Loss:0.42901486291885377\n",
      "Current lr: 0.00021599999999999996\n"
     ]
    },
    {
     "name": "stderr",
     "output_type": "stream",
     "text": [
      "100%|██████████| 157/157 [00:05<00:00, 29.39it/s]\n"
     ]
    },
    {
     "name": "stdout",
     "output_type": "stream",
     "text": [
      "Epoch:4 Loss:0.40694807806015015\n",
      "Current lr: 0.00012959999999999998\n"
     ]
    },
    {
     "name": "stderr",
     "output_type": "stream",
     "text": [
      "100%|██████████| 157/157 [00:05<00:00, 28.09it/s]\n"
     ]
    },
    {
     "name": "stdout",
     "output_type": "stream",
     "text": [
      "Epoch:5 Loss:0.39776023375988007\n",
      "Current lr: 7.775999999999999e-05\n"
     ]
    },
    {
     "name": "stderr",
     "output_type": "stream",
     "text": [
      "100%|██████████| 157/157 [00:05<00:00, 28.89it/s]\n"
     ]
    },
    {
     "name": "stdout",
     "output_type": "stream",
     "text": [
      "Epoch:6 Loss:0.39374710483551023\n",
      "Current lr: 4.665599999999999e-05\n"
     ]
    },
    {
     "name": "stderr",
     "output_type": "stream",
     "text": [
      "100%|██████████| 157/157 [00:05<00:00, 29.41it/s]\n"
     ]
    },
    {
     "name": "stdout",
     "output_type": "stream",
     "text": [
      "Epoch:7 Loss:0.3867272607803345\n",
      "Current lr: 2.7993599999999992e-05\n"
     ]
    },
    {
     "name": "stderr",
     "output_type": "stream",
     "text": [
      "100%|██████████| 157/157 [00:05<00:00, 27.41it/s]\n"
     ]
    },
    {
     "name": "stdout",
     "output_type": "stream",
     "text": [
      "Epoch:8 Loss:0.38641542348861696\n",
      "Current lr: 1.6796159999999994e-05\n"
     ]
    },
    {
     "name": "stderr",
     "output_type": "stream",
     "text": [
      "100%|██████████| 157/157 [00:05<00:00, 29.19it/s]\n"
     ]
    },
    {
     "name": "stdout",
     "output_type": "stream",
     "text": [
      "Epoch:9 Loss:0.37998854036331176\n",
      "Current lr: 1.0077695999999996e-05\n"
     ]
    },
    {
     "name": "stderr",
     "output_type": "stream",
     "text": [
      "100%|██████████| 157/157 [00:05<00:00, 28.40it/s]\n"
     ]
    },
    {
     "name": "stdout",
     "output_type": "stream",
     "text": [
      "Epoch:10 Loss:0.3822008722305298\n",
      "Current lr: 6.046617599999998e-06\n"
     ]
    },
    {
     "name": "stderr",
     "output_type": "stream",
     "text": [
      "100%|██████████| 157/157 [00:05<00:00, 27.94it/s]\n"
     ]
    },
    {
     "name": "stdout",
     "output_type": "stream",
     "text": [
      "Epoch:11 Loss:0.3804425236225128\n",
      "Current lr: 3.6279705599999985e-07\n"
     ]
    },
    {
     "name": "stderr",
     "output_type": "stream",
     "text": [
      "100%|██████████| 157/157 [00:05<00:00, 29.01it/s]\n"
     ]
    },
    {
     "name": "stdout",
     "output_type": "stream",
     "text": [
      "Epoch:12 Loss:0.38409207401275636\n",
      "Current lr: 2.176782335999999e-07\n"
     ]
    },
    {
     "name": "stderr",
     "output_type": "stream",
     "text": [
      "100%|██████████| 157/157 [00:05<00:00, 27.51it/s]\n"
     ]
    },
    {
     "name": "stdout",
     "output_type": "stream",
     "text": [
      "Epoch:13 Loss:0.3806882303237915\n",
      "Current lr: 1.3060694015999994e-08\n",
      "Very slow learning rate\n"
     ]
    },
    {
     "data": {
      "image/png": "[encoded data removed]",
      "text/plain": [
       "<Figure size 640x480 with 1 Axes>"
      ]
     },
     "metadata": {},
     "output_type": "display_data"
    }
   ],
   "source": [
    "loss_vect=Back_PropTT_LSTM(LSTM, data, optimiser, criterion)\n",
    "\n",
    "plt.plot(loss_vect)\n",
    "plt.xlabel(\"Epoch\")\n",
    "plt.ylabel(\"Epoch_Loss\")\n",
    "plt.title(\"Loss variation against epoch\")\n",
    "plt.show()"
   ]
  },
  {
   "cell_type": "code",
   "execution_count": 62,
   "metadata": {
    "colab": {
     "base_uri": "https://localhost:8080/",
     "height": 559
    },
    "id": "MSA9Pe1Szz0w",
    "outputId": "b3028e3c-f5bb-4707-dba8-584120d459ad"
   },
   "outputs": [
    {
     "name": "stdout",
     "output_type": "stream",
     "text": [
      "Final Loss: 0.38310764635618205\n",
      "Confusion Matrix: [[3203  773]\n",
      " [ 559 3440]]\n",
      "PR-AUC:0.9132474643753536\n",
      "ROC-AUC:0.9105634054388848\n"
     ]
    },
    {
     "data": {
      "image/png": "[encoded data removed]",
      "text/plain": [
       "<Figure size 640x480 with 1 Axes>"
      ]
     },
     "metadata": {},
     "output_type": "display_data"
    }
   ],
   "source": [
    "from sklearn.metrics import confusion_matrix,average_precision_score,roc_auc_score\n",
    "\n",
    "LSTM.eval()\n",
    "with torch.no_grad():\n",
    "  LSTMprobs_to_gpu=[]\n",
    "  LSTMpredictions_to_gpu=[]\n",
    "  LSTM_prediction_=[]\n",
    "  LSTM_probs=[]\n",
    "  final_loss=0\n",
    "  for test_label_batch, test_title_batch, test_review_batch in test_data:\n",
    "\n",
    "    LSTM_output=LSTM(test_title_batch.to(device),test_review_batch.to(device))\n",
    "    LSTMprobs_to_gpu.append(torch.sigmoid(LSTM_output).flatten())\n",
    "    LSTMpredictions_to_gpu.append((LSTM_output>=0).int().flatten())\n",
    "    LSTM_prediction=torch.cat(LSTMpredictions_to_gpu).cpu().numpy()\n",
    "    LSTM_probs=torch.cat(LSTMprobs_to_gpu).cpu().numpy()\n",
    "\n",
    "    loss=criterion(LSTM_output.view(-1),test_label_batch.float().to(device))\n",
    "    final_loss+=loss.item()*test_label_batch.shape[0]\n",
    "\n",
    "  final_loss/=len(test_data.dataset)\n",
    "  print(f\"Final Loss: {final_loss}\")\n",
    "\n",
    "  ConfusionMatrix=confusion_matrix(test_label_tensor,LSTM_prediction)\n",
    "  pr_auc=average_precision_score(test_label_tensor,LSTM_probs)\n",
    "  roc_auc=roc_auc_score(test_label_tensor,probs)\n",
    "\n",
    "  print(f\"Confusion Matrix: {ConfusionMatrix}\")\n",
    "  print(f\"PR-AUC:{pr_auc}\")\n",
    "  print(f\"ROC-AUC:{roc_auc}\")\n",
    "\n",
    "  sns.heatmap(ConfusionMatrix, annot=True, fmt='d', cmap='Blues', cbar=False)\n",
    "  plt.xlabel('Predicted Output')\n",
    "  plt.ylabel('Actual Output')\n",
    "  plt.title('Confusion Matrix')\n",
    "  plt.show()\n",
    "\n",
    "\n",
    "\n",
    "#                            Performance Metrics\n",
    "\n",
    "# Accuracy: 0.833\n",
    "# Precision: 0.860\n",
    "# Recall: 0.817\n",
    "# f1 Score: 0.838\n",
    "# PR-AUC: 0.913\n",
    "# ROC-AUC: 0.910\n"
   ]
  },
  {
   "cell_type": "code",
   "execution_count": null,
   "metadata": {
    "id": "YAms79y5tbSR"
   },
   "outputs": [],
   "source": []
  }
 ],
 "metadata": {
  "accelerator": "GPU",
  "colab": {
   "gpuType": "T4",
   "provenance": []
  },
  "kernelspec": {
   "display_name": "Python 3",
   "name": "python3"
  },
  "language_info": {
   "name": "python"
  }
 },
 "nbformat": 4,
 "nbformat_minor": 0
}
